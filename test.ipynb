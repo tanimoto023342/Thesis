{
 "cells": [
  {
   "cell_type": "code",
   "execution_count": 18,
   "metadata": {},
   "outputs": [
    {
     "name": "stdout",
     "output_type": "stream",
     "text": [
      "(Node('/1/2'), Node('/1/3'))\n",
      "(Node('/1/2'), AnyNode(name=4), Node('/1/3'))\n",
      "(AnyNode(name=4), Node('/1/2'), AnyNode(name=4), Node('/1/3'))\n"
     ]
    }
   ],
   "source": [
    "import anytree\n",
    "\n",
    "def copyTree(node):\n",
    "    \"\"\"先通り順でcopy\"\"\"\n",
    "    cnode=anytree.AnyNode()\n",
    "    for i in vars(node):\n",
    "        cnode.__dict__.update({i:node.__dict__[i]})\n",
    "    for t in node.children:\n",
    "        node1=copyTree(t)\n",
    "        node1.parent=cnode\n",
    "    return cnode\n",
    "\n",
    "\n",
    "def insertChild(parentNode, num, nodelist=[]):\n",
    "    \"\"\"\n",
    "    parentNode=子どもの挿入を行いたいノード\n",
    "    num=子どもを挿入したい位置\n",
    "    nodelist=挿入したいノードのリスト\n",
    "    \"\"\"\n",
    "    stack=[]\n",
    "    childlen=len(parentNode.children)\n",
    "    for i in range(childlen-num):\n",
    "        target=parentNode.children[childlen-1-i]\n",
    "        target.parent=None\n",
    "        stack.append(target)\n",
    "    for i in nodelist:\n",
    "        node=copyTree(i)\n",
    "        node.parent=parentNode\n",
    "    for _ in range(len(stack)):\n",
    "        j=stack.pop()\n",
    "        j.parent=parentNode\n",
    "\n",
    "a=anytree.Node(1)\n",
    "b=anytree.Node(2,parent=a)\n",
    "c=anytree.Node(3,parent=a)\n",
    "\n",
    "d=anytree.Node(4)\n",
    "e=anytree.Node(4)\n",
    "\n",
    "print(a.children)\n",
    "\n",
    "insertChild(a,1,[d])\n",
    "\n",
    "print(a.children)\n",
    "\n",
    "insertChild(a,0,[d])\n",
    "\n",
    "print(a.children)\n",
    "\n",
    "\n",
    "\n",
    "\n"
   ]
  },
  {
   "cell_type": "code",
   "execution_count": null,
   "metadata": {},
   "outputs": [],
   "source": []
  }
 ],
 "metadata": {
  "kernelspec": {
   "display_name": "visibleAST",
   "language": "python",
   "name": "python3"
  },
  "language_info": {
   "codemirror_mode": {
    "name": "ipython",
    "version": 3
   },
   "file_extension": ".py",
   "mimetype": "text/x-python",
   "name": "python",
   "nbconvert_exporter": "python",
   "pygments_lexer": "ipython3",
   "version": "3.11.4"
  }
 },
 "nbformat": 4,
 "nbformat_minor": 2
}
